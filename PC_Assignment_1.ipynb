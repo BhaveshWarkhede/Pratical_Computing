{
 "cells": [
  {
   "cell_type": "markdown",
   "id": "dd7ad4a2",
   "metadata": {},
   "source": [
    "# Exercise 1"
   ]
  },
  {
   "cell_type": "markdown",
   "id": "3aa04ee5",
   "metadata": {},
   "source": [
    "### • Write a simple, short program to calculate and print area of one of the biggest faces and volume of a rectangular cuboid with the dimensions given below:"
   ]
  },
  {
   "cell_type": "code",
   "execution_count": 1,
   "id": "73ea9bb8",
   "metadata": {},
   "outputs": [],
   "source": [
    "l = 30 #Length\n",
    "b = 20 #Breadth\n",
    "h = 15 #Height"
   ]
  },
  {
   "cell_type": "code",
   "execution_count": 2,
   "id": "b0969187",
   "metadata": {},
   "outputs": [],
   "source": [
    "def largest_face_area(l,b,h):\n",
    "    face1_area = h*l\n",
    "    face2_area = b*h\n",
    "    face3_area = l*b\n",
    "    areas=[face1_area,face2_area,face3_area]\n",
    "    return max(areas)"
   ]
  },
  {
   "cell_type": "code",
   "execution_count": 3,
   "id": "251a367f",
   "metadata": {},
   "outputs": [],
   "source": [
    "def cuboid_volume(l,b,h):\n",
    "    volume = l*b*h\n",
    "    return volume"
   ]
  },
  {
   "cell_type": "code",
   "execution_count": 4,
   "id": "58a3a160",
   "metadata": {},
   "outputs": [
    {
     "name": "stdout",
     "output_type": "stream",
     "text": [
      "The volume of rectangular cuboid is: 9000 mm^3\n"
     ]
    }
   ],
   "source": [
    "print(f'The volume of rectangular cuboid is: {cuboid_volume(30,20,15)} mm^3')"
   ]
  },
  {
   "cell_type": "code",
   "execution_count": 5,
   "id": "9e97ebe2",
   "metadata": {},
   "outputs": [
    {
     "name": "stdout",
     "output_type": "stream",
     "text": [
      "the largest face area: 600 mm^2\n"
     ]
    }
   ],
   "source": [
    "print(f'the largest face area: {largest_face_area(30,20,15)} mm^2')"
   ]
  },
  {
   "cell_type": "markdown",
   "id": "d66d1adc",
   "metadata": {},
   "source": [
    "## ......................................................................................................................................................"
   ]
  },
  {
   "cell_type": "markdown",
   "id": "42a6d403",
   "metadata": {},
   "source": [
    "#  Exercise 2"
   ]
  },
  {
   "cell_type": "markdown",
   "id": "02a14bc6",
   "metadata": {},
   "source": [
    "### Write a simple, short program to calculate and print area of one of the biggest faces and volume of a rectangular cuboid with the dimensions given below. Use functions and loops if required."
   ]
  },
  {
   "cell_type": "code",
   "execution_count": 6,
   "id": "3e1f0f85",
   "metadata": {},
   "outputs": [],
   "source": [
    "# Lengths of rectangle (30,40,50)\n",
    "\n",
    "length = [30,40,50]"
   ]
  },
  {
   "cell_type": "code",
   "execution_count": 7,
   "id": "d2f2fda1",
   "metadata": {},
   "outputs": [
    {
     "name": "stdout",
     "output_type": "stream",
     "text": [
      "largest face area:600 mm^2 & cuboid volume is:9000 mm^3 \n",
      "\n",
      "largest face area:800 mm^2 & cuboid volume is:12000 mm^3 \n",
      "\n",
      "largest face area:1000 mm^2 & cuboid volume is:15000 mm^3 \n",
      "\n"
     ]
    }
   ],
   "source": [
    "for i in length:\n",
    "    area = largest_face_area(l = i,b = 20,h = 15) # Here in this for loop i=different length of rectangle.\n",
    "    volume = cuboid_volume(l = i,b = 20,h = 15)\n",
    "    print(f'largest face area:{area} mm^2 & cuboid volume is:{volume} mm^3 \\n')\n",
    "    \n",
    "    "
   ]
  },
  {
   "cell_type": "markdown",
   "id": "313170a6",
   "metadata": {},
   "source": [
    "## ......................................................................................................................................................"
   ]
  },
  {
   "cell_type": "markdown",
   "id": "8fa4e8c1",
   "metadata": {},
   "source": [
    "# Exercise 4"
   ]
  },
  {
   "cell_type": "markdown",
   "id": "4d273ce2",
   "metadata": {},
   "source": [
    "### Write a code for matrix multiplication of two matrices of A and B of size (n * n) , where n = 10,30,50,100,500,1000 . Use vectorised and nonvectorised implementation and compare their performance using a profiler."
   ]
  },
  {
   "cell_type": "code",
   "execution_count": 8,
   "id": "18964250",
   "metadata": {},
   "outputs": [],
   "source": [
    "import numpy as np\n",
    "import time\n",
    "import pandas as pd"
   ]
  },
  {
   "cell_type": "code",
   "execution_count": 9,
   "id": "ca4cd776",
   "metadata": {},
   "outputs": [],
   "source": [
    "# Create 2 vectors of same length\n",
    "def matrixmultiply_forloop(Iteration):\n",
    "    start = time.time()\n",
    "    n=Iteration\n",
    "    matrix1 = np.random.randint(1000, size=(n, n))\n",
    "    matrix2 = np.random.randint(1000, size=(n, n))\n",
    "\n",
    "    # Multiply 2 matrices using for loop\n",
    "    product = np.zeros((n, n), dtype='int')\n",
    "    for i in range(n):\n",
    "        for j in range(n):\n",
    "            for z in range(n):\n",
    "                product[i, j] += matrix1[i, z] * matrix2[z, j]\n",
    "    end = time.time()\n",
    "    consumed = end-start\n",
    "    return n ,consumed\n"
   ]
  },
  {
   "cell_type": "code",
   "execution_count": 10,
   "id": "3d98be5d",
   "metadata": {},
   "outputs": [],
   "source": [
    "def matrixmultiply_vectorize(Iteration):\n",
    "    start = time.time()\n",
    "    n=Iteration\n",
    "    matrix1 = np.random.randint(1000, size=(n, n))\n",
    "    matrix2 = np.random.randint(1000, size=(n, n))\n",
    "    product = np.matmul(matrix1, matrix2)\n",
    "    end = time.time()\n",
    "    consumed = end-start\n",
    "    return consumed"
   ]
  },
  {
   "cell_type": "code",
   "execution_count": 11,
   "id": "1bda19af",
   "metadata": {},
   "outputs": [],
   "source": [
    "df = pd.DataFrame()"
   ]
  },
  {
   "cell_type": "code",
   "execution_count": 12,
   "id": "7810af65",
   "metadata": {},
   "outputs": [
    {
     "name": "stdout",
     "output_type": "stream",
     "text": [
      "Wall time: 14min 18s\n"
     ]
    }
   ],
   "source": [
    "\n",
    "lst=[10,30,50,100,500,1000]\n",
    "for i in lst:\n",
    "    n = matrixmultiply_forloop(i)\n",
    "    N = matrixmultiply_vectorize(i)\n",
    "    df = df.append({'Iteration': n[0] ,'Time in min':(n[1]/60),'Time in min Vectorised':N/60},ignore_index=True)"
   ]
  },
  {
   "cell_type": "code",
   "execution_count": 13,
   "id": "a71688e0",
   "metadata": {},
   "outputs": [
    {
     "data": {
      "text/html": [
       "<div>\n",
       "<style scoped>\n",
       "    .dataframe tbody tr th:only-of-type {\n",
       "        vertical-align: middle;\n",
       "    }\n",
       "\n",
       "    .dataframe tbody tr th {\n",
       "        vertical-align: top;\n",
       "    }\n",
       "\n",
       "    .dataframe thead th {\n",
       "        text-align: right;\n",
       "    }\n",
       "</style>\n",
       "<table border=\"1\" class=\"dataframe\">\n",
       "  <thead>\n",
       "    <tr style=\"text-align: right;\">\n",
       "      <th></th>\n",
       "      <th>Iteration</th>\n",
       "      <th>Time in min</th>\n",
       "      <th>Time in min Vectorised</th>\n",
       "    </tr>\n",
       "  </thead>\n",
       "  <tbody>\n",
       "    <tr>\n",
       "      <th>0</th>\n",
       "      <td>10.0</td>\n",
       "      <td>0.000017</td>\n",
       "      <td>0.000000</td>\n",
       "    </tr>\n",
       "    <tr>\n",
       "      <th>1</th>\n",
       "      <td>30.0</td>\n",
       "      <td>0.000349</td>\n",
       "      <td>0.000000</td>\n",
       "    </tr>\n",
       "    <tr>\n",
       "      <th>2</th>\n",
       "      <td>50.0</td>\n",
       "      <td>0.001562</td>\n",
       "      <td>0.000017</td>\n",
       "    </tr>\n",
       "    <tr>\n",
       "      <th>3</th>\n",
       "      <td>100.0</td>\n",
       "      <td>0.013697</td>\n",
       "      <td>0.000017</td>\n",
       "    </tr>\n",
       "    <tr>\n",
       "      <th>4</th>\n",
       "      <td>500.0</td>\n",
       "      <td>1.564856</td>\n",
       "      <td>0.002826</td>\n",
       "    </tr>\n",
       "    <tr>\n",
       "      <th>5</th>\n",
       "      <td>1000.0</td>\n",
       "      <td>12.693948</td>\n",
       "      <td>0.022815</td>\n",
       "    </tr>\n",
       "  </tbody>\n",
       "</table>\n",
       "</div>"
      ],
      "text/plain": [
       "   Iteration  Time in min  Time in min Vectorised\n",
       "0       10.0     0.000017                0.000000\n",
       "1       30.0     0.000349                0.000000\n",
       "2       50.0     0.001562                0.000017\n",
       "3      100.0     0.013697                0.000017\n",
       "4      500.0     1.564856                0.002826\n",
       "5     1000.0    12.693948                0.022815"
      ]
     },
     "execution_count": 13,
     "metadata": {},
     "output_type": "execute_result"
    }
   ],
   "source": [
    "df"
   ]
  },
  {
   "cell_type": "markdown",
   "id": "8f4a6533",
   "metadata": {},
   "source": [
    "### Plot the time required for the calculations for different values and present the trend for both the cases."
   ]
  },
  {
   "cell_type": "code",
   "execution_count": 14,
   "id": "e7bedcd1",
   "metadata": {},
   "outputs": [
    {
     "data": {
      "text/plain": [
       "[<matplotlib.lines.Line2D at 0x1c8d9e6e190>]"
      ]
     },
     "execution_count": 14,
     "metadata": {},
     "output_type": "execute_result"
    },
    {
     "data": {
      "image/png": "[encoded data removed]",
      "text/plain": [
       "<Figure size 432x288 with 1 Axes>"
      ]
     },
     "metadata": {
      "needs_background": "light"
     },
     "output_type": "display_data"
    }
   ],
   "source": [
    "import matplotlib.pyplot as plt\n",
    "plt.plot(df['Time in min'],df['Iteration'])\n",
    "plt.plot(df['Time in min Vectorised'],df['Iteration'])"
   ]
  }
 ],
 "metadata": {
  "kernelspec": {
   "display_name": "Python 3 (ipykernel)",
   "language": "python",
   "name": "python3"
  },
  "language_info": {
   "codemirror_mode": {
    "name": "ipython",
    "version": 3
   },
   "file_extension": ".py",
   "mimetype": "text/x-python",
   "name": "python",
   "nbconvert_exporter": "python",
   "pygments_lexer": "ipython3",
   "version": "3.8.5"
  }
 },
 "nbformat": 4,
 "nbformat_minor": 5
}
